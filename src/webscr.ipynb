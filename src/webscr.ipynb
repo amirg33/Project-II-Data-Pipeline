{
 "cells": [
  {
   "cell_type": "code",
   "execution_count": 6,
   "metadata": {},
   "outputs": [],
   "source": [
    "import pandas as pd\n",
    "import requests\n",
    "\n",
    "df_country_africa = pd.read_csv(\"../Data/Weather_continent/df_country_africa.csv\" , sep= \",\",encoding= 'utf-8')\n",
    "df_country_asia = pd.read_csv(\"../Data/Weather_continent/df_country_asia.csv\" , sep= \",\",encoding= 'utf-8')\n",
    "df_country_europe = pd.read_csv(\"../Data/Weather_continent/df_country_europe.csv\" , sep= \",\",encoding= 'utf-8')\n",
    "df_country_north_america = pd.read_csv(\"../Data/Weather_continent/df_country_north_america.csv\" , sep= \",\",encoding= 'utf-8')\n",
    "df_country_oceania = pd.read_csv(\"../Data/Weather_continent/df_country_oceania.csv\" , sep= \",\",encoding= 'utf-8')\n",
    "df_country_south_america=pd.read_csv(\"../Data/Weather_continent/df_country_south_america.csv\" , sep= \",\",encoding= 'utf-8')\n",
    "\n",
    "dataframes = [\n",
    "    df_country_africa,\n",
    "    df_country_asia,\n",
    "    df_country_europe,\n",
    "    df_country_north_america,\n",
    "    df_country_oceania,\n",
    "    df_country_south_america\n",
    "]\n",
    "def drop_ref_column(df):\n",
    "    df.drop(columns=[\"Ref.\"], inplace=True)\n",
    "for df in dataframes:\n",
    "    drop_ref_column(df)\n",
    "\n",
    "#Adding the continents to each df\n",
    "continent_names = [\n",
    "    'Africa',\n",
    "    'Asia',\n",
    "    'Europe',\n",
    "    'North America',\n",
    "    'Oceania',\n",
    "    'South America'\n",
    "]\n",
    "#merge all df of each continent\n",
    "for df, continent in zip(dataframes, continent_names):\n",
    "    df.insert(0, 'Continent', continent)\n",
    "\n",
    "df_temp = pd.concat(dataframes, ignore_index=True)\n",
    "\n",
    "# List of month and Year columns\n",
    "temp_columns = ['Jan', 'Feb', 'Mar', 'Apr', 'May', 'Jun', 'Jul', 'Aug', 'Sep', 'Oct', 'Nov', 'Dec', 'Year']\n",
    "\n",
    "# Extract Celsius temperatures and convert to float\n",
    "for col in temp_columns:\n",
    "    df_temp[col] = df_temp[col].str.extract('([0-9.]+)').astype(float)\n",
    "\n"
   ]
  },
  {
   "cell_type": "code",
   "execution_count": null,
   "metadata": {},
   "outputs": [],
   "source": []
  },
  {
   "cell_type": "code",
   "execution_count": null,
   "metadata": {},
   "outputs": [],
   "source": [
    "\n",
    "    "
   ]
  },
  {
   "cell_type": "code",
   "execution_count": null,
   "metadata": {},
   "outputs": [],
   "source": []
  },
  {
   "cell_type": "code",
   "execution_count": 7,
   "metadata": {},
   "outputs": [],
   "source": [
    "url = \"https://en.wikipedia.org/wiki/List_of_cities_by_average_temperature\"\n",
    "\n",
    "    #Save all the tables in the weather Continent folder as a .csv file\n",
    "df_country_africa = pd.read_html(url)[0]\n",
    "df_country_africa.to_csv(\"../Data/Unprocessed_data/Weather_continent/df_country_africa.csv\", index=False)\n",
    "df_country_asia = pd.read_html(url)[1]\n",
    "df_country_asia.to_csv(\"../Data/Unprocessed_data/Weather_continent/df_country_asia.csv\", index=False)\n",
    "df_country_europe = pd.read_html(url)[2]\n",
    "df_country_europe.to_csv(\"../Data/Unprocessed_data/Weather_continent/df_country_europe.csv\", index=False)\n",
    "df_country_north_america = pd.read_html(url)[3]\n",
    "df_country_north_america.to_csv(\"../Data/Unprocessed_data/Weather_continent/df_country_north_america.csv\", index=False)\n",
    "df_country_oceania = pd.read_html(url)[4]\n",
    "df_country_oceania.to_csv(\"../Data/Unprocessed_data/Weather_continent/df_country_oceania.csv\", index=False)\n",
    "df_country_south_america = pd.read_html(url)[5]\n",
    "df_country_south_america.to_csv(\"../Data/Unprocessed_data/Weather_continent/df_country_south_america.csv\", index=False)"
   ]
  },
  {
   "cell_type": "code",
   "execution_count": null,
   "metadata": {},
   "outputs": [
    {
     "ename": "KeyError",
     "evalue": "\"['Ref.'] not found in axis\"",
     "output_type": "error",
     "traceback": [
      "\u001b[1;31m---------------------------------------------------------------------------\u001b[0m",
      "\u001b[1;31mKeyError\u001b[0m                                  Traceback (most recent call last)",
      "\u001b[1;32mc:\\Users\\amirg\\OneDrive\\Documents\\Iron hack\\1_Data Analysis_Oktober\\Projects\\Project-II-Data-Pipeline\\src\\webscr.ipynb Cell 6\u001b[0m line \u001b[0;36m1\n\u001b[1;32m----> <a href='vscode-notebook-cell:/c%3A/Users/amirg/OneDrive/Documents/Iron%20hack/1_Data%20Analysis_Oktober/Projects/Project-II-Data-Pipeline/src/webscr.ipynb#W2sZmlsZQ%3D%3D?line=0'>1</a>\u001b[0m df_country_asia\u001b[39m.\u001b[39;49mdrop(columns\u001b[39m=\u001b[39;49m[\u001b[39m\"\u001b[39;49m\u001b[39mRef.\u001b[39;49m\u001b[39m\"\u001b[39;49m], inplace\u001b[39m=\u001b[39;49m\u001b[39mTrue\u001b[39;49;00m)\n",
      "File \u001b[1;32mc:\\Users\\amirg\\miniconda3\\envs\\ironhack\\Lib\\site-packages\\pandas\\core\\frame.py:5347\u001b[0m, in \u001b[0;36mDataFrame.drop\u001b[1;34m(self, labels, axis, index, columns, level, inplace, errors)\u001b[0m\n\u001b[0;32m   5199\u001b[0m \u001b[39mdef\u001b[39;00m \u001b[39mdrop\u001b[39m(\n\u001b[0;32m   5200\u001b[0m     \u001b[39mself\u001b[39m,\n\u001b[0;32m   5201\u001b[0m     labels: IndexLabel \u001b[39m|\u001b[39m \u001b[39mNone\u001b[39;00m \u001b[39m=\u001b[39m \u001b[39mNone\u001b[39;00m,\n\u001b[1;32m   (...)\u001b[0m\n\u001b[0;32m   5208\u001b[0m     errors: IgnoreRaise \u001b[39m=\u001b[39m \u001b[39m\"\u001b[39m\u001b[39mraise\u001b[39m\u001b[39m\"\u001b[39m,\n\u001b[0;32m   5209\u001b[0m ) \u001b[39m-\u001b[39m\u001b[39m>\u001b[39m DataFrame \u001b[39m|\u001b[39m \u001b[39mNone\u001b[39;00m:\n\u001b[0;32m   5210\u001b[0m \u001b[39m    \u001b[39m\u001b[39m\"\"\"\u001b[39;00m\n\u001b[0;32m   5211\u001b[0m \u001b[39m    Drop specified labels from rows or columns.\u001b[39;00m\n\u001b[0;32m   5212\u001b[0m \n\u001b[1;32m   (...)\u001b[0m\n\u001b[0;32m   5345\u001b[0m \u001b[39m            weight  1.0     0.8\u001b[39;00m\n\u001b[0;32m   5346\u001b[0m \u001b[39m    \"\"\"\u001b[39;00m\n\u001b[1;32m-> 5347\u001b[0m     \u001b[39mreturn\u001b[39;00m \u001b[39msuper\u001b[39;49m()\u001b[39m.\u001b[39;49mdrop(\n\u001b[0;32m   5348\u001b[0m         labels\u001b[39m=\u001b[39;49mlabels,\n\u001b[0;32m   5349\u001b[0m         axis\u001b[39m=\u001b[39;49maxis,\n\u001b[0;32m   5350\u001b[0m         index\u001b[39m=\u001b[39;49mindex,\n\u001b[0;32m   5351\u001b[0m         columns\u001b[39m=\u001b[39;49mcolumns,\n\u001b[0;32m   5352\u001b[0m         level\u001b[39m=\u001b[39;49mlevel,\n\u001b[0;32m   5353\u001b[0m         inplace\u001b[39m=\u001b[39;49minplace,\n\u001b[0;32m   5354\u001b[0m         errors\u001b[39m=\u001b[39;49merrors,\n\u001b[0;32m   5355\u001b[0m     )\n",
      "File \u001b[1;32mc:\\Users\\amirg\\miniconda3\\envs\\ironhack\\Lib\\site-packages\\pandas\\core\\generic.py:4711\u001b[0m, in \u001b[0;36mNDFrame.drop\u001b[1;34m(self, labels, axis, index, columns, level, inplace, errors)\u001b[0m\n\u001b[0;32m   4709\u001b[0m \u001b[39mfor\u001b[39;00m axis, labels \u001b[39min\u001b[39;00m axes\u001b[39m.\u001b[39mitems():\n\u001b[0;32m   4710\u001b[0m     \u001b[39mif\u001b[39;00m labels \u001b[39mis\u001b[39;00m \u001b[39mnot\u001b[39;00m \u001b[39mNone\u001b[39;00m:\n\u001b[1;32m-> 4711\u001b[0m         obj \u001b[39m=\u001b[39m obj\u001b[39m.\u001b[39;49m_drop_axis(labels, axis, level\u001b[39m=\u001b[39;49mlevel, errors\u001b[39m=\u001b[39;49merrors)\n\u001b[0;32m   4713\u001b[0m \u001b[39mif\u001b[39;00m inplace:\n\u001b[0;32m   4714\u001b[0m     \u001b[39mself\u001b[39m\u001b[39m.\u001b[39m_update_inplace(obj)\n",
      "File \u001b[1;32mc:\\Users\\amirg\\miniconda3\\envs\\ironhack\\Lib\\site-packages\\pandas\\core\\generic.py:4753\u001b[0m, in \u001b[0;36mNDFrame._drop_axis\u001b[1;34m(self, labels, axis, level, errors, only_slice)\u001b[0m\n\u001b[0;32m   4751\u001b[0m         new_axis \u001b[39m=\u001b[39m axis\u001b[39m.\u001b[39mdrop(labels, level\u001b[39m=\u001b[39mlevel, errors\u001b[39m=\u001b[39merrors)\n\u001b[0;32m   4752\u001b[0m     \u001b[39melse\u001b[39;00m:\n\u001b[1;32m-> 4753\u001b[0m         new_axis \u001b[39m=\u001b[39m axis\u001b[39m.\u001b[39;49mdrop(labels, errors\u001b[39m=\u001b[39;49merrors)\n\u001b[0;32m   4754\u001b[0m     indexer \u001b[39m=\u001b[39m axis\u001b[39m.\u001b[39mget_indexer(new_axis)\n\u001b[0;32m   4756\u001b[0m \u001b[39m# Case for non-unique axis\u001b[39;00m\n\u001b[0;32m   4757\u001b[0m \u001b[39melse\u001b[39;00m:\n",
      "File \u001b[1;32mc:\\Users\\amirg\\miniconda3\\envs\\ironhack\\Lib\\site-packages\\pandas\\core\\indexes\\base.py:6992\u001b[0m, in \u001b[0;36mIndex.drop\u001b[1;34m(self, labels, errors)\u001b[0m\n\u001b[0;32m   6990\u001b[0m \u001b[39mif\u001b[39;00m mask\u001b[39m.\u001b[39many():\n\u001b[0;32m   6991\u001b[0m     \u001b[39mif\u001b[39;00m errors \u001b[39m!=\u001b[39m \u001b[39m\"\u001b[39m\u001b[39mignore\u001b[39m\u001b[39m\"\u001b[39m:\n\u001b[1;32m-> 6992\u001b[0m         \u001b[39mraise\u001b[39;00m \u001b[39mKeyError\u001b[39;00m(\u001b[39mf\u001b[39m\u001b[39m\"\u001b[39m\u001b[39m{\u001b[39;00mlabels[mask]\u001b[39m.\u001b[39mtolist()\u001b[39m}\u001b[39;00m\u001b[39m not found in axis\u001b[39m\u001b[39m\"\u001b[39m)\n\u001b[0;32m   6993\u001b[0m     indexer \u001b[39m=\u001b[39m indexer[\u001b[39m~\u001b[39mmask]\n\u001b[0;32m   6994\u001b[0m \u001b[39mreturn\u001b[39;00m \u001b[39mself\u001b[39m\u001b[39m.\u001b[39mdelete(indexer)\n",
      "\u001b[1;31mKeyError\u001b[0m: \"['Ref.'] not found in axis\""
     ]
    }
   ],
   "source": [
    "df_country_asia.drop(columns=[\"Ref.\"], inplace=True)\n"
   ]
  },
  {
   "cell_type": "code",
   "execution_count": null,
   "metadata": {},
   "outputs": [
    {
     "ename": "NameError",
     "evalue": "name 'country_processed' is not defined",
     "output_type": "error",
     "traceback": [
      "\u001b[1;31m---------------------------------------------------------------------------\u001b[0m",
      "\u001b[1;31mNameError\u001b[0m                                 Traceback (most recent call last)",
      "\u001b[1;32mc:\\Users\\amirg\\OneDrive\\Documents\\Iron hack\\1_Data Analysis_Oktober\\Projects\\Project-II-Data-Pipeline\\src\\webscr.ipynb Cell 5\u001b[0m line \u001b[0;36m2\n\u001b[0;32m      <a href='vscode-notebook-cell:/c%3A/Users/amirg/OneDrive/Documents/Iron%20hack/1_Data%20Analysis_Oktober/Projects/Project-II-Data-Pipeline/src/webscr.ipynb#W1sZmlsZQ%3D%3D?line=0'>1</a>\u001b[0m dict_with_lists \u001b[39m=\u001b[39m {\n\u001b[1;32m----> <a href='vscode-notebook-cell:/c%3A/Users/amirg/OneDrive/Documents/Iron%20hack/1_Data%20Analysis_Oktober/Projects/Project-II-Data-Pipeline/src/webscr.ipynb#W1sZmlsZQ%3D%3D?line=1'>2</a>\u001b[0m     \u001b[39m\"\u001b[39m\u001b[39mcountry\u001b[39m\u001b[39m\"\u001b[39m: country_processed,\n\u001b[0;32m      <a href='vscode-notebook-cell:/c%3A/Users/amirg/OneDrive/Documents/Iron%20hack/1_Data%20Analysis_Oktober/Projects/Project-II-Data-Pipeline/src/webscr.ipynb#W1sZmlsZQ%3D%3D?line=2'>3</a>\u001b[0m     \u001b[39m\"\u001b[39m\u001b[39mavg_temperature\u001b[39m\u001b[39m\"\u001b[39m: temp_processed\n\u001b[0;32m      <a href='vscode-notebook-cell:/c%3A/Users/amirg/OneDrive/Documents/Iron%20hack/1_Data%20Analysis_Oktober/Projects/Project-II-Data-Pipeline/src/webscr.ipynb#W1sZmlsZQ%3D%3D?line=3'>4</a>\u001b[0m }\n",
      "\u001b[1;31mNameError\u001b[0m: name 'country_processed' is not defined"
     ]
    }
   ],
   "source": [
    "dict_with_lists = {\n",
    "    \"country\": country_processed,\n",
    "    \"avg_temperature\": temp_processed\n",
    "}"
   ]
  }
 ],
 "metadata": {
  "kernelspec": {
   "display_name": "ironhack",
   "language": "python",
   "name": "python3"
  },
  "language_info": {
   "codemirror_mode": {
    "name": "ipython",
    "version": 3
   },
   "file_extension": ".py",
   "mimetype": "text/x-python",
   "name": "python",
   "nbconvert_exporter": "python",
   "pygments_lexer": "ipython3",
   "version": "3.12.0"
  }
 },
 "nbformat": 4,
 "nbformat_minor": 2
}
